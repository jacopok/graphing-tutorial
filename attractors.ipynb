{
 "metadata": {
  "language_info": {
   "codemirror_mode": {
    "name": "ipython",
    "version": 3
   },
   "file_extension": ".py",
   "mimetype": "text/x-python",
   "name": "python",
   "nbconvert_exporter": "python",
   "pygments_lexer": "ipython3",
   "version": "3.8.8-final"
  },
  "orig_nbformat": 2,
  "kernelspec": {
   "name": "python38864bitpython38envcondacf244bfccee044f1836606909d0a707d",
   "display_name": "Python 3.8.8 64-bit ('python38env': conda)"
  }
 },
 "nbformat": 4,
 "nbformat_minor": 2,
 "cells": [
  {
   "cell_type": "code",
   "execution_count": 1,
   "metadata": {},
   "outputs": [],
   "source": [
    "import numpy as np\n",
    "from tqdm import tqdm\n",
    "import matplotlib.pyplot as plt\n",
    "from matplotlib import rc\n",
    "from mpl_toolkits.mplot3d import Axes3D\n",
    "from functools import partial\n",
    "from numpy.random import seed\n",
    "\n",
    "seed(97)\n",
    "\n",
    "hdefault = .01\n",
    "\n",
    "# Risoluzione di equazioni differenziali\n",
    "\n",
    "def initialize(t0, tmax, start, h=hdefault):\n",
    "    # Returns arrays filled with the initial conditions \n",
    "    # and then zero, of the right shape\n",
    "\n",
    "    ts = np.arange(t0, tmax+h, h)\n",
    "    xs = np.zeros(((len(ts),) + np.shape(start)))\n",
    "    xs[0] = start\n",
    "    return (ts, xs)\n",
    "\n",
    "def fourth_order(f, t0, tmax, x0, h=hdefault):\n",
    "    ts, xs = initialize(t0, tmax, x0, h)\n",
    "\n",
    "    for i, t in tqdm(enumerate(ts[:-1]), total=int((tmax-t0)/h), desc = \"Fourth order RK\"):\n",
    "        x = xs[i]\n",
    "        thalf = t + h / 2.\n",
    "        tnew = t + h\n",
    "        k1 = h / 2. * f(x, t)\n",
    "        k2 = h / 2. * f((x + k1), thalf)\n",
    "        k3 = h * f(x + k2, thalf)\n",
    "        k4 = h * f(x + k3, tnew)\n",
    "        xs[i+1] = x + (2.*k1 + 4.*k2 + 2.*k3 + k4)/6.\n",
    "    return (ts, xs)"
   ]
  },
  {
   "cell_type": "code",
   "execution_count": 2,
   "metadata": {},
   "outputs": [],
   "source": [
    "# attrattori strani\n",
    "\n",
    "def general_lorenz(x, t, sigma, rho, beta):\n",
    "    y = np.zeros(3)\n",
    "    y[0] = sigma * (x[1] - x[0])\n",
    "    y[1] = x[0] * (rho - x[2]) - x[1]\n",
    "    y[2] = x[0] * x[1] - beta * x[2]\n",
    "    return (y)\n",
    "    \n",
    "params_lorenz = {'sigma': 10., 'beta': 8. / 3., 'rho': 29.}\n",
    "lorenz = partial(general_lorenz, **params_lorenz)\n",
    "\n",
    "def general_coupled_lorenz(x, t, beta, o, r1, r2, epsilon):\n",
    "    x1 = x[0]\n",
    "    x2 = x[1]\n",
    "    y = np.zeros((2, 3))\n",
    "    y[0][0] = o*(x1[1] - x1[0])\n",
    "    y[0][1] = r1*x1[0] - x1[1] - x1[0]*x1[2]\n",
    "    y[0][2] = - beta*x1[2] + x1[0]*x1[1]\n",
    "    y[1][0] = o*(x2[1] - x2[0]) + epsilon *(x1[0] -x2[0])\n",
    "    y[1][1] = r2*x2[0] - x2[1] - x2[0] *x2[2]\n",
    "    y[1][2] =  - beta * x2[2] + x2[0] * x2[1]\n",
    "    return(y)\n",
    "\n",
    "params_coupled_lorenz = {'beta': 8./3., 'o': 10., 'r1': 35., 'r2': 1.15, 'epsilon': 2.85}\n",
    "coupled_lorenz = partial(general_coupled_lorenz, **params_coupled_lorenz)\n",
    "\n",
    "def general_rossler(x, t, A, B, C):\n",
    "    y = np.zeros(3)\n",
    "    y[0] = -(x[1] + x[2])\n",
    "    y[1] = x[0] + A * x[1]\n",
    "    y[2] = B + x[0] * x[2] - C * x[2]\n",
    "    return(y)\n",
    "\n",
    "\n",
    "params_rossler={'A': .2, 'B': .2, 'C': 5.7}\n",
    "rossler = partial(general_rossler, **params_rossler)\n",
    "\n",
    "def general_lorenz_mod2(x, t, alpha, beta, gamma, delta):\n",
    "    y = np.zeros(3)\n",
    "    y[0] = -alpha * x[0] + x[1]** 2 - x[2]** 2 + alpha * gamma\n",
    "    y[1] = x[0] * (x[1] - beta * x[2]) + delta\n",
    "    y[2] = -x[2] + x[0] * (beta * x[1] + x[2])\n",
    "    return(y)\n",
    "\n",
    "params_lorenz_mod2 = {'alpha': 0.9, 'beta': 5., 'gamma': 9.9, 'delta': 1}\n",
    "lorenz_mod2 = partial(general_lorenz_mod2, **params_lorenz_mod2)\n",
    "\n",
    "def general_halvorsen(x, t, alpha):\n",
    "    y = np.zeros(3)\n",
    "    y[0] = -alpha * x[0] - 4 * (x[1] + x[2]) - x[1]** 2\n",
    "    y[1] = -alpha * x[1] - 4 * (x[2] + x[0]) - x[2]** 2\n",
    "    y[2] = -alpha * x[2] - 4 * (x[0] + x[1]) - x[0]** 2\n",
    "    return(y)\n",
    "\n",
    "params_halvorsen = {'alpha': 1.4}\n",
    "halvorsen = partial(general_halvorsen, **params_halvorsen)"
   ]
  },
  {
   "cell_type": "code",
   "execution_count": 3,
   "metadata": {},
   "outputs": [],
   "source": [
    "def plot(xs):\n",
    "    fig = plt.figure()\n",
    "    ax = fig.gca(projection='3d')\n",
    "    if (isinstance(xs, list)):\n",
    "      for x in xs:\n",
    "        ax.plot(x[:, 0], x[:, 1], x[:, 2], linewidth=.5)\n",
    "    elif len(xs.shape) == 3:\n",
    "        ax.plot(xs[:, 1, 0], xs[:, 1, 1], xs[:, 1, 2], linewidth=.5)\n",
    "    else:\n",
    "      ax.plot(xs[:, 0], xs[:, 1], xs[:, 2], linewidth=.5)\n",
    "    plt.show()"
   ]
  },
  {
   "cell_type": "code",
   "execution_count": 8,
   "metadata": {},
   "outputs": [
    {
     "output_type": "stream",
     "name": "stderr",
     "text": [
      "Fourth order RK: 100%|██████████| 200000/200000 [00:09<00:00, 20764.19it/s]\n"
     ]
    }
   ],
   "source": [
    "%matplotlib qt\n",
    "ts, xs = fourth_order(lorenz, 0, 40, [1., 1., 1.], h=1e-4)\n",
    "plot(xs)"
   ]
  },
  {
   "cell_type": "code",
   "execution_count": 9,
   "metadata": {},
   "outputs": [
    {
     "output_type": "stream",
     "name": "stderr",
     "text": [
      "Fourth order RK: 100%|██████████| 400000/400000 [00:20<00:00, 19587.85it/s]\n"
     ]
    }
   ],
   "source": [
    "ts, xs = fourth_order(rossler, 0, 400, [1, 1, 1], h=1e-3)\n",
    "plot(xs)"
   ]
  },
  {
   "cell_type": "code",
   "execution_count": 6,
   "metadata": {},
   "outputs": [
    {
     "output_type": "stream",
     "name": "stderr",
     "text": [
      "Fourth order RK: 100%|██████████| 200000/200000 [00:14<00:00, 13769.59it/s]\n"
     ]
    }
   ],
   "source": [
    "ts, xs = fourth_order(coupled_lorenz, 0, 200, np.random.rand(6).reshape((2, 3)), h=1e-3)\n",
    "plot(xs)"
   ]
  },
  {
   "cell_type": "code",
   "execution_count": 7,
   "metadata": {},
   "outputs": [
    {
     "output_type": "stream",
     "name": "stderr",
     "text": [
      "Fourth order RK: 100%|██████████| 100000/100000 [00:05<00:00, 17496.14it/s]\n"
     ]
    }
   ],
   "source": [
    "ts, xs = fourth_order(lorenz_mod2, 0, 50, np.random.rand(3), h=1e-3)\n",
    "plot(xs)"
   ]
  },
  {
   "cell_type": "code",
   "execution_count": null,
   "metadata": {},
   "outputs": [],
   "source": [
    "ts, xs = fourth_order(halvorsen, 0, 100, np.random.rand(3), h=2e-3)\n",
    "plot(xs)"
   ]
  }
 ]
}